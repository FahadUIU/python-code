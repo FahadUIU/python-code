{
 "cells": [
  {
   "cell_type": "code",
   "execution_count": 31,
   "id": "090838ed",
   "metadata": {},
   "outputs": [
    {
     "name": "stdout",
     "output_type": "stream",
     "text": [
      "Berry\n",
      "Harry\n"
     ]
    }
   ],
   "source": [
    "student=[['Harry', 37.21], ['Berry', 37.21], ['Tina', 37.2], ['Akriti', 41], ['Harsh', 39]]\n",
    "l=len(student)\n",
    "marks=[]\n",
    "for i in range(0,l):\n",
    "    for j in range (i,i+1):\n",
    "        marks.append(student[i][1])\n",
    "#print(marks)\n",
    "marks.sort(reverse=True)\n",
    "#print(marks)\n",
    "low=[]\n",
    "x=len(marks)-2\n",
    "low=marks[x]\n",
    "#print(low)\n",
    "name=[]\n",
    "for i in range(0,l):\n",
    "    for j in range (i,i+1):\n",
    "        if student[i][1]==low:\n",
    "            name.append(student[i][0])\n",
    "name.sort()\n",
    "for x in range(0,len(name)):\n",
    "    print(name[x])\n",
    "\n"
   ]
  },
  {
   "cell_type": "code",
   "execution_count": null,
   "id": "23600144",
   "metadata": {},
   "outputs": [],
   "source": []
  },
  {
   "cell_type": "code",
   "execution_count": null,
   "id": "40bb1f93",
   "metadata": {},
   "outputs": [],
   "source": []
  }
 ],
 "metadata": {
  "kernelspec": {
   "display_name": "Python 3 (ipykernel)",
   "language": "python",
   "name": "python3"
  },
  "language_info": {
   "codemirror_mode": {
    "name": "ipython",
    "version": 3
   },
   "file_extension": ".py",
   "mimetype": "text/x-python",
   "name": "python",
   "nbconvert_exporter": "python",
   "pygments_lexer": "ipython3",
   "version": "3.10.0"
  }
 },
 "nbformat": 4,
 "nbformat_minor": 5
}
